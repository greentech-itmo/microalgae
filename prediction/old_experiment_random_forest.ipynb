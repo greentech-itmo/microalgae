{
 "cells": [
  {
   "cell_type": "code",
   "execution_count": null,
   "id": "905ad637",
   "metadata": {
    "colab": {
     "base_uri": "https://localhost:8080/",
     "height": 458
    },
    "id": "905ad637",
    "outputId": "f3350597-270e-4ecc-dd45-9cde0cb4377d"
   },
   "source": [
    "import numpy as np\n",
    "import pandas as pd\n",
    "import matplotlib.pyplot as plt\n",
    "%matplotlib inline\n",
    "import seaborn as sns\n",
    "import sklearn.model_selection\n",
    "import sklearn.linear_model\n",
    "from sklearn.metrics import accuracy_score\n",
    "\n",
    "# устанавливаем точность чисел с плавающей точкой\n",
    "%precision %.4f\n",
    "\n",
    "import warnings\n",
    "warnings.filterwarnings('ignore')  # отключаем предупреждения\n",
    "\n",
    "df = pd.read_csv('c66.csv', sep=\"\\t\", decimal=\",\")\n",
    "df = df.drop(['Сутки'], axis=1)\n",
    "df"
   ],
   "outputs": []
  },
  {
   "cell_type": "code",
   "execution_count": null,
   "id": "d00924e6",
   "metadata": {
    "colab": {
     "base_uri": "https://localhost:8080/",
     "height": 458
    },
    "id": "d00924e6",
    "outputId": "0072d77f-8c8b-4158-a74f-e02650ebe478"
   },
   "source": [
    "from sklearn.model_selection import train_test_split, cross_val_score\n",
    "from sklearn.metrics import accuracy_score, classification_report, precision_score, recall_score\n",
    "from sklearn.metrics import confusion_matrix, precision_recall_curve, roc_curve, auc, log_loss\n",
    "\n",
    "# Датасет с выбранными признаками\n",
    "X = df.drop(['Фаза'], axis=1)\n",
    "y = df['Фаза']\n",
    "\n",
    "X_train, X_test, y_train, y_test = train_test_split(X, y, test_size=0.2, random_state=42, stratify=y)\n",
    "X_train"
   ],
   "outputs": []
  },
  {
   "cell_type": "code",
   "execution_count": null,
   "id": "3010463b",
   "metadata": {
    "colab": {
     "base_uri": "https://localhost:8080/",
     "height": 714
    },
    "id": "3010463b",
    "outputId": "e21bd191-64f2-4b6a-97d3-ed5813d320c7"
   },
   "source": [
    "plt.subplots(figsize=(8, 5))\n",
    "sns.heatmap(X_train.corr(), annot=True, cmap=\"RdYlGn\")\n",
    "plt.show()"
   ],
   "outputs": []
  },
  {
   "cell_type": "code",
   "execution_count": null,
   "id": "b29ceb76",
   "metadata": {
    "colab": {
     "base_uri": "https://localhost:8080/",
     "height": 758
    },
    "id": "b29ceb76",
    "outputId": "9adcf157-e48e-4fe3-ff2f-8a544b5548ae"
   },
   "source": [
    "from sklearn.feature_selection import RFECV\n",
    "from sklearn.linear_model import LogisticRegression\n",
    "\n",
    "rfecv = RFECV(estimator=LogisticRegression(), step=1, cv=5, scoring='accuracy')\n",
    "rfecv.fit(X_train, y_train)\n",
    "\n",
    "selected_features = list(X_train.columns[rfecv.support_])\n",
    "\n",
    "print(\"Optimal number of features: %d\" % rfecv.n_features_)\n",
    "print('Selected features: %s' % selected_features)\n",
    "\n",
    "plt.figure(figsize=(10,6))\n",
    "plt.xlabel(\"Number of features selected\")\n",
    "plt.ylabel(\"Cross validation score (nb of correct classifications)\")\n",
    "plt.plot(range(1, len(rfecv.grid_scores_) + 1), rfecv.grid_scores_)\n",
    "plt.show()"
   ],
   "outputs": []
  },
  {
   "cell_type": "code",
   "execution_count": null,
   "id": "4c3f9172",
   "metadata": {
    "id": "4c3f9172",
    "colab": {
     "base_uri": "https://localhost:8080/",
     "height": 698
    },
    "outputId": "df53e165-502d-443d-e3a6-469b63c8ec49"
   },
   "source": [
    "X_train = X_train[selected_features]\n",
    "X_test = X_test[selected_features]\n",
    "\n",
    "plt.subplots(figsize=(8, 5))\n",
    "sns.heatmap(X_train.corr(), annot=True, cmap=\"RdYlGn\")\n",
    "plt.show()"
   ],
   "outputs": []
  },
  {
   "cell_type": "code",
   "execution_count": null,
   "id": "600bae98",
   "metadata": {
    "id": "600bae98"
   },
   "source": [
    "# Installation\n",
    "#!pip install lazypredict"
   ],
   "outputs": []
  },
  {
   "cell_type": "code",
   "execution_count": null,
   "id": "114aac5e",
   "metadata": {
    "id": "114aac5e",
    "colab": {
     "base_uri": "https://localhost:8080/",
     "height": 383
    },
    "outputId": "a94817f3-23ec-4f5f-94f8-bb68404c2dca"
   },
   "source": [
    "from lazypredict.Supervised import LazyClassifier\n",
    "\n",
    "# Fit all models\n",
    "clf = LazyClassifier(predictions=True)\n",
    "models, predictions = clf.fit(X_train, X_test, y_train, y_test)\n",
    "models"
   ],
   "outputs": []
  },
  {
   "cell_type": "code",
   "execution_count": null,
   "id": "76360279",
   "metadata": {
    "id": "76360279",
    "colab": {
     "base_uri": "https://localhost:8080/",
     "height": 141
    },
    "outputId": "6cd5cbb2-e06e-4931-c24a-92e771fd1feb"
   },
   "source": [
    "predictions[\"RandomForestClassifier\"]"
   ],
   "outputs": []
  },
  {
   "cell_type": "code",
   "execution_count": null,
   "id": "750bf64c",
   "metadata": {
    "id": "750bf64c",
    "colab": {
     "base_uri": "https://localhost:8080/",
     "height": 1000
    },
    "outputId": "b20eeeb6-254e-445a-9a31-2274208c3f5a"
   },
   "source": [
    "X_test"
   ],
   "outputs": []
  },
  {
   "cell_type": "code",
   "execution_count": null,
   "id": "a6dfb76b",
   "metadata": {
    "id": "a6dfb76b",
    "colab": {
     "base_uri": "https://localhost:8080/"
    },
    "outputId": "3f3d3add-190b-467b-8ab2-e00952efd222"
   },
   "source": [
    "y_test"
   ],
   "outputs": []
  },
  {
   "cell_type": "code",
   "execution_count": null,
   "id": "50670378",
   "metadata": {
    "id": "50670378"
   },
   "source": [],
   "outputs": []
  }
 ],
 "metadata": {
  "kernelspec": {
   "display_name": "Python 3 (ipykernel)",
   "language": "python",
   "name": "python3"
  },
  "language_info": {
   "codemirror_mode": {
    "name": "ipython",
    "version": 3
   },
   "file_extension": ".py",
   "mimetype": "text/x-python",
   "name": "python",
   "nbconvert_exporter": "python",
   "pygments_lexer": "ipython3",
   "version": "3.8.10"
  },
  "colab": {
   "provenance": []
  }
 },
 "nbformat": 4,
 "nbformat_minor": 5
}
